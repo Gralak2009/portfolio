{
  "nbformat": 4,
  "nbformat_minor": 0,
  "metadata": {
    "colab": {
      "provenance": [],
      "authorship_tag": "ABX9TyMocv2ogb1Ln86POzXPs3mZ",
      "include_colab_link": true
    },
    "kernelspec": {
      "name": "python3",
      "display_name": "Python 3"
    },
    "language_info": {
      "name": "python"
    }
  },
  "cells": [
    {
      "cell_type": "markdown",
      "metadata": {
        "id": "view-in-github",
        "colab_type": "text"
      },
      "source": [
        "<a href=\"https://colab.research.google.com/github/Gralak2009/portfolio/blob/main/untitled0.ipynb\" target=\"_parent\"><img src=\"https://colab.research.google.com/assets/colab-badge.svg\" alt=\"Open In Colab\"/></a>"
      ]
    },
    {
      "cell_type": "markdown",
      "source": [
        "# **Aula 1** 🐖 🥔 🐋"
      ],
      "metadata": {
        "id": "ozAXGClk1q-K"
      }
    },
    {
      "cell_type": "code",
      "execution_count": null,
      "metadata": {
        "id": "Lk-WLc1ItmvC"
      },
      "outputs": [],
      "source": [
        "print(\"I competição de programação dá Start\")\n",
        "ano = \"IX\"\n",
        "print(ano, \"competição de programação da Start\")\n",
        "print(f\"{ano} competição de programação da Start\")"
      ]
    },
    {
      "cell_type": "markdown",
      "source": [],
      "metadata": {
        "id": "jKosVj6AuugW"
      }
    },
    {
      "cell_type": "markdown",
      "source": [
        "# **Aula 2 ⏰ ♈ ⚛**"
      ],
      "metadata": {
        "id": "aGYtxVYd2EAS"
      }
    },
    {
      "cell_type": "code",
      "source": [
        "livro_ficcao = 8\n",
        "livro_n_ficcao = 10\n",
        "livro_infantil = 6\n",
        "pontos_rodrigo = livro_ficcao + livro_n_ficcao + livro_infantil\n",
        "print(f\"Os pontos totais do Rodrigo são {pontos_rodrigo}\")\n"
      ],
      "metadata": {
        "id": "Rr8A4nodvXs1"
      },
      "execution_count": null,
      "outputs": []
    },
    {
      "cell_type": "markdown",
      "source": [
        "#**Aula:** 3        🇦 ♎  ⚡"
      ],
      "metadata": {
        "id": "MUrVjqsou1ri"
      }
    },
    {
      "cell_type": "code",
      "source": [
        "numero_de_alunos = int(input(\"Digite a quantidade de alunos: \"))\n",
        "numero_de_monitores = int(input(\"Digite a quantidade de monitores: \"))\n",
        "numero_de_professores = 8\n",
        "if numero_de_alunos + numero_de_monitores + numero_de_professores <= 50:\n",
        "  resposta_positiva = \"pode ir\"\n",
        "resposta_negativa = \"não pode ir\"\n",
        "if numero_de_alunos + numero_de_monitores <= 50:\n",
        "  print(resposta_positiva)\n",
        "else:\n",
        "  print(resposta_negativa)"
      ],
      "metadata": {
        "colab": {
          "base_uri": "https://localhost:8080/"
        },
        "id": "6KHtFtqUwTUM",
        "outputId": "1268aa67-7eae-47fb-de20-7646092f90b5"
      },
      "execution_count": null,
      "outputs": [
        {
          "output_type": "stream",
          "name": "stdout",
          "text": [
            "Digite a quantidade de alunos: 30\n",
            "Digite a quantidade de monitores: 20\n",
            "pode ir\n"
          ]
        }
      ]
    },
    {
      "cell_type": "markdown",
      "source": [
        "# **Aula** **4**: 🌳 🦫 🧝"
      ],
      "metadata": {
        "id": "DYoYA-li2lv3"
      }
    },
    {
      "cell_type": "code",
      "source": [
        "P = int(input(\"Digite a posição da porta P (0 ou 1): \"))\n",
        "R = int(input(\"Digite a posição da porta R (0 ou 1): \"))\n",
        "if P == 0:\n",
        "    print(\"C\")\n",
        "elif R == 1:\n",
        "    print(\"A\")\n",
        "else:\n",
        "    print(\"B\")"
      ],
      "metadata": {
        "id": "z5u7J0xs3IZv"
      },
      "execution_count": null,
      "outputs": []
    },
    {
      "cell_type": "markdown",
      "source": [
        "## **Aula** **5** 💼 ✔ ⛈"
      ],
      "metadata": {
        "id": "01_L8cP23SrQ"
      }
    },
    {
      "cell_type": "code",
      "source": [
        "def tabuada(numero):\n",
        "    for contador in range(1, 11):  # Gera números de 1 a 10\n",
        "        print(f\"{numero} x {contador} = {numero * contador}\")\n",
        "numero = int(input(\"Digite um número para ver sua tabuada: \"))\n",
        "tabuada(numero)"
      ],
      "metadata": {
        "id": "JKuZU0X025vr"
      },
      "execution_count": null,
      "outputs": []
    },
    {
      "cell_type": "markdown",
      "source": [
        "# **Aula 6** 🏀 🐗 🧄"
      ],
      "metadata": {
        "id": "UeW-zEnk7MjS"
      }
    },
    {
      "cell_type": "code",
      "source": [
        "peso = float(input(\"Digite seu peso (em kg): \"))\n",
        "altura = float(input(\"Digite sua altura (em metros): \"))\n",
        "imc = peso / (altura ** 2)\n",
        "print(f\"\\nSeu IMC é: {imc:.2f}\")\n",
        "if imc < 18.5:\n",
        "    print(\"Você está abaixo do peso.\")\n",
        "elif 18.5 <= imc < 25:\n",
        "    print(\"Você está no peso ideal.\")\n",
        "elif 25 <= imc < 30:\n",
        "    print(\"Você está com sobrepeso.\")\n",
        "else:\n",
        "    print(\"Você está acima do peso.\")"
      ],
      "metadata": {
        "id": "CpY0J2517MMF"
      },
      "execution_count": null,
      "outputs": []
    },
    {
      "cell_type": "markdown",
      "source": [
        "#**Aula 7** ⏰ ⚗ ✈"
      ],
      "metadata": {
        "id": "HOTIZ-g032jP"
      }
    },
    {
      "cell_type": "code",
      "source": [
        "print (\"sou seu assistente virtual, como posso ajudar? \\n \")\n",
        "nome = input(\"Digite seu nome: \")\n",
        "print(\"Olá, \" + nome +\", Qual é a sua dúvida hoje?\")"
      ],
      "metadata": {
        "id": "QL5SDsrp5xB3"
      },
      "execution_count": null,
      "outputs": []
    },
    {
      "cell_type": "code",
      "source": [
        "print (\"sou seu assistente virtual, como posso ajudar? \\n \")\n",
        "nome = input(\"Digite seu nome: \")\n",
        "print(f\"Olá, {nome}. Qual é a sua dúvida hoje?\")\n",
        "resposta = input(\"Qual o assunto que deseja tratar: matematica, python, javascript \").lower()\n",
        "if resposta == \"python\" :\n",
        " print(f\"Que bom, {nome}, vamos falar sobre python.Python é uma linguagem de programação de alto nível, interpretada e de propósito geral, conhecida por sua sintaxe simples e legível, que enfatiza a produtividade do programador.  \")\n",
        "elif resposta == \"javascript\" :\n",
        " print(f\"Que bom, {nome}, vamos falar sobre javascript.JavaScript (ou JS) é uma linguagem de programação de alto nível, dinâmica e interpretada, que é essencial para tornar as páginas web interativas e dinâmicas. \")\n",
        "elif resposta == \"matemática\"\n",
        " print(f\"Que bom, {nome}, vamos falar sobre Matemática. A Matemática é uma ciência fundamental que estuda sistemas de conceitos como números, quantidades, espaço, padrões e estruturas\")\n",
        "else :\n",
        " print(\"Desculpa, não sei tratar sobre esse assunto\")\n",
        ""
      ],
      "metadata": {
        "colab": {
          "base_uri": "https://localhost:8080/"
        },
        "id": "ZA3lVUnp5PwW",
        "outputId": "0516dbe7-2286-4e0e-d31a-47b8c0b0afce"
      },
      "execution_count": null,
      "outputs": [
        {
          "output_type": "stream",
          "name": "stdout",
          "text": [
            "sou seu assistente virtual, como posso ajudar? \n",
            " \n",
            "Digite seu nome: angelo\n",
            "Olá, angelo. Qual é a sua dúvida hoje?\n",
            "Qual o assunto que deseja tratar: matematica, python, javascript python\n",
            "Que bom, angelo, vamos falar sobre python.Python é uma linguagem de programação de alto nível, interpretada e de propósito geral, conhecida por sua sintaxe simples e legível, que enfatiza a produtividade do programador.  \n"
          ]
        }
      ]
    }
  ]
}